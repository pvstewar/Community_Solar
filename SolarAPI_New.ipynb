{
 "cells": [
  {
   "cell_type": "code",
   "execution_count": 1,
   "id": "0896f8de",
   "metadata": {},
   "outputs": [
    {
     "name": "stdout",
     "output_type": "stream",
     "text": [
      "Test\n"
     ]
    }
   ],
   "source": [
    "print(\"Solar_API\")"
   ]
  },
  {
   "cell_type": "code",
   "execution_count": 2,
   "id": "5c16e6e3",
   "metadata": {},
   "outputs": [
    {
     "name": "stdout",
     "output_type": "stream",
     "text": [
      "Requirement already satisfied: requests in ./opt/anaconda3/lib/python3.9/site-packages (2.27.1)\n",
      "Requirement already satisfied: google-auth in ./opt/anaconda3/lib/python3.9/site-packages (1.33.0)\n",
      "Requirement already satisfied: idna<4,>=2.5 in ./opt/anaconda3/lib/python3.9/site-packages (from requests) (3.3)\n",
      "Requirement already satisfied: charset-normalizer~=2.0.0 in ./opt/anaconda3/lib/python3.9/site-packages (from requests) (2.0.4)\n",
      "Requirement already satisfied: urllib3<1.27,>=1.21.1 in ./opt/anaconda3/lib/python3.9/site-packages (from requests) (1.26.9)\n",
      "Requirement already satisfied: certifi>=2017.4.17 in ./opt/anaconda3/lib/python3.9/site-packages (from requests) (2021.10.8)\n",
      "Requirement already satisfied: six>=1.9.0 in ./opt/anaconda3/lib/python3.9/site-packages (from google-auth) (1.16.0)\n",
      "Requirement already satisfied: pyasn1-modules>=0.2.1 in ./opt/anaconda3/lib/python3.9/site-packages (from google-auth) (0.2.8)\n",
      "Requirement already satisfied: setuptools>=40.3.0 in ./opt/anaconda3/lib/python3.9/site-packages (from google-auth) (61.2.0)\n",
      "Requirement already satisfied: cachetools<5.0,>=2.0.0 in ./opt/anaconda3/lib/python3.9/site-packages (from google-auth) (4.2.2)\n",
      "Requirement already satisfied: rsa<5,>=3.1.4 in ./opt/anaconda3/lib/python3.9/site-packages (from google-auth) (4.7.2)\n",
      "Requirement already satisfied: pyasn1<0.5.0,>=0.4.6 in ./opt/anaconda3/lib/python3.9/site-packages (from pyasn1-modules>=0.2.1->google-auth) (0.4.8)\n",
      "Note: you may need to restart the kernel to use updated packages.\n"
     ]
    }
   ],
   "source": [
    "pip install requests google-auth"
   ]
  },
  {
   "cell_type": "code",
   "execution_count": 6,
   "id": "65505955",
   "metadata": {},
   "outputs": [],
   "source": [
    "#Building Insights"
   ]
  },
  {
   "cell_type": "code",
   "execution_count": 19,
   "id": "ec51c106",
   "metadata": {},
   "outputs": [
    {
     "name": "stdout",
     "output_type": "stream",
     "text": [
      "Error: 400 Client Error: Bad Request for url: https://solar.googleapis.com/v1/buildingInsights:findClosest?location.latitude=37.4450&location.longitude=-122.1390&requiredQuality=HIGH&key=%3CAPI_Key%3E\n",
      "Failed to retrieve solar data\n"
     ]
    }
   ],
   "source": [
    "import requests\n",
    "from google.auth import compute_engine\n",
    "\n",
    "def get_solar_data(latitude, longitude):\n",
    "    # Authenticate with Google Cloud using default credentials\n",
    "    credentials = compute_engine.Credentials()\n",
    "    \n",
    "    # Define API endpoint\n",
    "    #api_url = f'https://solar.googleapis.com/v1/score?latitude={latitude}&longitude={longitude}'\n",
    "    api_url ='https://solar.googleapis.com/v1/buildingInsights:findClosest?location.latitude=37.4450&location.longitude=-122.1390&requiredQuality=HIGH&key=<API_Key>'\n",
    "             \n",
    "    try:\n",
    "        # Make request to the Solar API\n",
    "        response = requests.get(api_url, headers={'Authorization': f'purudsp {credentials.token}'})\n",
    "        response.raise_for_status()  # Raise exception for HTTP errors\n",
    "\n",
    "        # Parse response JSON\n",
    "        solar_data = response.json()\n",
    "\n",
    "        return solar_data\n",
    "    except requests.exceptions.RequestException as e:\n",
    "        print(\"Error:\", e)\n",
    "        return None\n",
    "\n",
    "def main():\n",
    "    # Example coordinates for San Francisco\n",
    "    latitude = 37.7749\n",
    "    longitude = -122.4194\n",
    "\n",
    "    # Get solar data\n",
    "    solar_data = get_solar_data(latitude, longitude)\n",
    "    if solar_data:\n",
    "        print(\"Solar data:\", solar_data)\n",
    "    else:\n",
    "        print(\"Failed to retrieve solar data\")\n",
    "\n",
    "if __name__ == \"__main__\":\n",
    "    main()"
   ]
  },
  {
   "cell_type": "code",
   "execution_count": 8,
   "id": "49df75b3",
   "metadata": {},
   "outputs": [],
   "source": [
    "#Data Layer"
   ]
  },
  {
   "cell_type": "code",
   "execution_count": 20,
   "id": "ed8de184",
   "metadata": {},
   "outputs": [
    {
     "name": "stdout",
     "output_type": "stream",
     "text": [
      "Error: 400 Client Error: Bad Request for url: https://solar.googleapis.com/v1/dataLayers:get?location.latitude=32.9686&location.longitude=-96.7120&radiusMeters=100&view=FULL_LAYERS&requiredQuality=HIGH&pixelSizeMeters=0.5&key=%3CAPI_Key%3E\n",
      "Failed to retrieve solar data\n"
     ]
    }
   ],
   "source": [
    "import requests\n",
    "from google.auth import compute_engine\n",
    "\n",
    "#Default - 37.7749, -122.4194\n",
    "#Home - 33.26510701931518, -96.8802402258487\n",
    "#Richardson 32.96860839577084, -96.71200731051846\n",
    "\n",
    "def get_solar_data(latitude, longitude):\n",
    "    # Authenticate with Google Cloud using default credentials\n",
    "    credentials = compute_engine.Credentials()\n",
    "    \n",
    "    # Define API endpoint\n",
    "    #api_url = f'https://solar.googleapis.com/v1/score?latitude={latitude}&longitude={longitude}'\n",
    "    api_url ='https://solar.googleapis.com/v1/dataLayers:get?location.latitude=32.9686&location.longitude=-96.7120&radiusMeters=100&view=FULL_LAYERS&requiredQuality=HIGH&pixelSizeMeters=0.5&key=<API_Key>'\n",
    "             \n",
    "    try:\n",
    "        # Make request to the Solar API\n",
    "        response = requests.get(api_url, headers={'Authorization': f'purudsp {credentials.token}'})\n",
    "        response.raise_for_status()  # Raise exception for HTTP errors\n",
    "\n",
    "        # Parse response JSON\n",
    "        solar_data = response.json()\n",
    "\n",
    "        return solar_data\n",
    "    except requests.exceptions.RequestException as e:\n",
    "        print(\"Error:\", e)\n",
    "        return None\n",
    "\n",
    "def main():\n",
    "    # Example coordinates for San Francisco\n",
    "    latitude = 33.2651\n",
    "    longitude = -96.8802\n",
    "\n",
    "    # Get solar data\n",
    "    solar_data = get_solar_data(latitude, longitude)\n",
    "    if solar_data:\n",
    "        print(\"Solar data:\", solar_data)\n",
    "    else:\n",
    "        print(\"Failed to retrieve solar data\")\n",
    "\n",
    "if __name__ == \"__main__\":\n",
    "    main()"
   ]
  },
  {
   "cell_type": "code",
   "execution_count": 17,
   "id": "763b5dc5",
   "metadata": {},
   "outputs": [],
   "source": [
    "#GeoTiff"
   ]
  },
  {
   "cell_type": "code",
   "execution_count": 18,
   "id": "c122b317",
   "metadata": {},
   "outputs": [
    {
     "name": "stdout",
     "output_type": "stream",
     "text": [
      "Error: 400 Client Error: Bad Request for url: https://solar.googleapis.com/v1/geoTiff:get?id=0ec42fd94224ceaa8f275a0cc13d0c7b-2292d28dcba022d98114b0c958045815&key=%3CAPI_Key%3E\n",
      "Failed to retrieve solar data\n"
     ]
    }
   ],
   "source": [
    "import requests\n",
    "from google.auth import compute_engine\n",
    "\n",
    "#Default - 37.7749, -122.4194\n",
    "#Home - 33.26510701931518, -96.8802402258487\n",
    "#Richardson 32.96860839577084, -96.71200731051846\n",
    "\n",
    "def get_solar_data(latitude, longitude):\n",
    "    # Authenticate with Google Cloud using default credentials\n",
    "    credentials = compute_engine.Credentials()\n",
    "    \n",
    "    # Define API endpoint\n",
    "    #api_url = f'https://solar.googleapis.com/v1/score?latitude={latitude}&longitude={longitude}'\n",
    "    api_url ='https://solar.googleapis.com/v1/geoTiff:get?id=0ec42fd94224ceaa8f275a0cc13d0c7b-2292d28dcba022d98114b0c958045815&key=<API_Key>'\n",
    "             \n",
    "    try:\n",
    "        # Make request to the Solar API\n",
    "        response = requests.get(api_url, headers={'Authorization': f'purudsp {credentials.token}'})\n",
    "        response.raise_for_status()  # Raise exception for HTTP errors\n",
    "\n",
    "        # Parse response JSON\n",
    "        solar_data = response.json()\n",
    "\n",
    "        return solar_data\n",
    "    except requests.exceptions.RequestException as e:\n",
    "        print(\"Error:\", e)\n",
    "        return None\n",
    "\n",
    "def main():\n",
    "    # Example coordinates for San Francisco\n",
    "    latitude = 33.2651\n",
    "    longitude = -96.8802\n",
    "\n",
    "    # Get solar data\n",
    "    solar_data = get_solar_data(latitude, longitude)\n",
    "    if solar_data:\n",
    "        print(\"Solar data:\", solar_data)\n",
    "    else:\n",
    "        print(\"Failed to retrieve solar data\")\n",
    "\n",
    "if __name__ == \"__main__\":\n",
    "    main()"
   ]
  },
  {
   "cell_type": "code",
   "execution_count": null,
   "id": "38fa6b5d",
   "metadata": {},
   "outputs": [],
   "source": []
  }
 ],
 "metadata": {
  "kernelspec": {
   "display_name": "Python 3 (ipykernel)",
   "language": "python",
   "name": "python3"
  },
  "language_info": {
   "codemirror_mode": {
    "name": "ipython",
    "version": 3
   },
   "file_extension": ".py",
   "mimetype": "text/x-python",
   "name": "python",
   "nbconvert_exporter": "python",
   "pygments_lexer": "ipython3",
   "version": "3.9.12"
  }
 },
 "nbformat": 4,
 "nbformat_minor": 5
}
